{
 "cells": [
  {
   "cell_type": "markdown",
   "metadata": {},
   "source": [
    "# ML Summer School Assignment 4\n",
    "\n",
    "This assignment is divided into 2 parts, in the first part you guys will be implementing Kmeans clustering from scratch without the use of any machine learning libraries like sklearn for the task of document clustering and the second part (probably more interesting :P) will guide you to make a recommender system of your own!\n",
    "\n",
    "## Task 1\n",
    "\n",
    "This task features clustering sysnopses of Top 100 movies as rated by IMdB. The task is to identify movies that fall into the same genre using an usupervised approach such as K-Means clustering to cluster movies whose synopses refer to similar structures."
   ]
  },
  {
   "cell_type": "markdown",
   "metadata": {},
   "source": [
    "### Load Libraries\n",
    "These libraries will be needed to complete this task. While you'll have most of them already installed if you have followed the previous assignments, you can easily install the rest by googling (:D) "
   ]
  },
  {
   "cell_type": "code",
   "execution_count": 1,
   "metadata": {
    "collapsed": true
   },
   "outputs": [],
   "source": [
    "import numpy as np\n",
    "import pandas as pd\n",
    "import nltk\n",
    "import re\n",
    "import os\n",
    "from sklearn import feature_extraction\n",
    "import pickle\n",
    "import scipy"
   ]
  },
  {
   "cell_type": "markdown",
   "metadata": {},
   "source": [
    "### Load data\n",
    "The ratings are taken from IMdB and synopses scraped from IMdB and Wikipedia (we have already done this for you) and stored as pickled lists, you can always take a look at them to get a better feel of the data."
   ]
  },
  {
   "cell_type": "code",
   "execution_count": 2,
   "metadata": {},
   "outputs": [
    {
     "name": "stdout",
     "output_type": "stream",
     "text": [
      "100 100 100 100 100\n"
     ]
    }
   ],
   "source": [
    "titles=pickle.load(open('data/titles.pkl','rb'))\n",
    "links=pickle.load(open('data/links.pkl','rb'))\n",
    "genres=pickle.load(open('data/genres.pkl','rb'))\n",
    "ranks=pickle.load(open('data/ranks.pkl','rb'))\n",
    "synopses=pickle.load(open('data/synopses.pkl','rb'))\n",
    "print(len(titles),len(links),len(genres),len(ranks),len(synopses))"
   ]
  },
  {
   "cell_type": "markdown",
   "metadata": {},
   "source": [
    "### Heads Up!\n",
    "Before you move forward, you'll have to download 2 NLTK packages, namely, stopwords and punkt in order to do the required preprocessing of synopses.\n",
    "To download them, just run the cell below, press 'd', type the names of the packages and you're good to go! :)"
   ]
  },
  {
   "cell_type": "code",
   "execution_count": 3,
   "metadata": {
    "scrolled": true
   },
   "outputs": [
    {
     "name": "stdout",
     "output_type": "stream",
     "text": [
      "NLTK Downloader\n",
      "---------------------------------------------------------------------------\n",
      "    d) Download   l) List    u) Update   c) Config   h) Help   q) Quit\n",
      "---------------------------------------------------------------------------\n",
      "Downloader> q\n"
     ]
    },
    {
     "data": {
      "text/plain": [
       "True"
      ]
     },
     "execution_count": 3,
     "metadata": {},
     "output_type": "execute_result"
    }
   ],
   "source": [
    "nltk.download()"
   ]
  },
  {
   "cell_type": "markdown",
   "metadata": {},
   "source": [
    "### Sub Task 1 -  Preprocessing the Data\n",
    "You'll have to preprocess the data in this sub-task. Mainly, we'll be removing stopwords, tokenizing and stemming.\n",
    "\n",
    "1. You already know about stopwords from your previous assignments. Stop words are words like \"a\", \"the\", or \"in\" which don't convey significant meaning. You can read more about them [here](https://en.wikipedia.org/wiki/Stop_words)\n",
    "\n",
    "2. Stemming is the process of breaking the  word down to its root form. More [here](http://en.wikipedia.org/wiki/Stemming). We will be using the [Snowball Stemmer](http://snowball.tartarus.org/) which is part of the NLTK package.\n",
    "\n",
    "3. Tokenization is the act of breaking up a sequence of strings into pieces such as words, keywords, phrases, symbols and other elements called tokens. Tokenization plays a large part in the process of lexical analysis. We will be using NLTK's inbuilt tokennizer. More [here](https://textminingonline.com/dive-into-nltk-part-ii-sentence-tokenize-and-word-tokenize)"
   ]
  },
  {
   "cell_type": "code",
   "execution_count": 4,
   "metadata": {
    "collapsed": true
   },
   "outputs": [],
   "source": [
    "#load english language stopwords from nltk and store it in the list stopwords \n",
    "stopwords = nltk.corpus.stopwords.words('english')"
   ]
  },
  {
   "cell_type": "code",
   "execution_count": 5,
   "metadata": {
    "collapsed": true
   },
   "outputs": [],
   "source": [
    "#import the snoball stemmer and create a stemmer object for the english language\n",
    "from nltk.stem.snowball import SnowballStemmer\n",
    "stemmer = SnowballStemmer(\"english\")"
   ]
  },
  {
   "cell_type": "markdown",
   "metadata": {},
   "source": [
    "Your task starts here, fill in the two functions, namely, `tokenize_and_stem()` and `tokenize_only()`. \n",
    "* The first function returns a nested list of stemmed tokens. You'll have to filter out the tokens which do not contain any letters. Particularly return the list `stems`, `ith` entry of which contains the stemmed tokens of the `ith` sentence in the given synopses text.\n",
    "* The second fucntion is similar but in this you only have to return the setence-wise tokens in the list filtered_tokens."
   ]
  },
  {
   "cell_type": "code",
   "execution_count": 6,
   "metadata": {
    "collapsed": true
   },
   "outputs": [],
   "source": [
    "def tokenize_and_stem(text):\n",
    "    # first tokenize by sentence, then by word to ensure that we have sentence wise list of tokens (i.e. a nested list)\n",
    "    tokens = [word for sent in nltk.sent_tokenize(text) for word in nltk.word_tokenize(sent)]\n",
    "    filtered_tokens = []\n",
    "    # filter out any tokens not containing letters (e.g., numeric tokens, raw punctuation)\n",
    "    for token in tokens:\n",
    "        if re.search('[a-zA-Z]', token):\n",
    "            filtered_tokens.append(token)\n",
    "    stems = [stemmer.stem(t) for t in filtered_tokens]\n",
    "    return stems\n",
    "\n",
    "def tokenize_only(text):\n",
    "    # first tokenize by sentence, then by word to ensure that punctuation is caught as it's own token\n",
    "    tokens = [word.lower() for sent in nltk.sent_tokenize(text) for word in nltk.word_tokenize(sent)]\n",
    "    filtered_tokens = []\n",
    "    # filter out any tokens not containing letters (e.g., numeric tokens, raw punctuation)\n",
    "    for token in tokens:\n",
    "        if re.search('[a-zA-Z]', token):\n",
    "            filtered_tokens.append(token)\n",
    "    return filtered_tokens"
   ]
  },
  {
   "cell_type": "markdown",
   "metadata": {},
   "source": [
    "We create `totalvocab_stemmed` and `totalvocab_tokenized` for all the words in the vocabulary (i.e. all the words in all the synopses combined)"
   ]
  },
  {
   "cell_type": "code",
   "execution_count": 7,
   "metadata": {
    "collapsed": true
   },
   "outputs": [],
   "source": [
    "totalvocab_stemmed = []\n",
    "totalvocab_tokenized = []\n",
    "for i in synopses:\n",
    "    allwords_stemmed = tokenize_and_stem(i)\n",
    "    totalvocab_stemmed.extend(allwords_stemmed)\n",
    "    \n",
    "    allwords_tokenized = tokenize_only(i)\n",
    "    totalvocab_tokenized.extend(allwords_tokenized)"
   ]
  },
  {
   "cell_type": "markdown",
   "metadata": {},
   "source": [
    "Create a dataframe `vocab_frame` which contains one to one mapping of all the stemmed words and the original words in the vocabulary. (This will be needed later for visualization purposes)"
   ]
  },
  {
   "cell_type": "code",
   "execution_count": 8,
   "metadata": {
    "collapsed": true
   },
   "outputs": [],
   "source": [
    "vocab_frame = pd.DataFrame({'words': totalvocab_tokenized}, index = totalvocab_stemmed)"
   ]
  },
  {
   "cell_type": "markdown",
   "metadata": {},
   "source": [
    "### Sub Task 2 - Creating the Features\n",
    "In this task you will have to create the tfidf matrix which will we used to cluster the given synopses. You have leart about tfidf features from the previous assignments. More about it [here](http://blog.christianperone.com/2011/09/machine-learning-text-feature-extraction-tf-idf-part-i/) and [here](http://blog.christianperone.com/2011/10/machine-learning-text-feature-extraction-tf-idf-part-ii/). You can use the `TfidfVectorizer` provided by sklearn.\n",
    "Store the matrix in the variable `tfidf_matrix`.\n",
    "\n",
    "**A bit about the various parameters you can use to get better features and hence better clusters which using the sklearn tfidfVectorizer.**(This is very very important to get good results)\n",
    "* max_df: this is the maximum frequency within the documents a given feature can have to be used in the tfi-idf matrix. If the term is in greater than 80% of the documents it probably cares little meanining (in the context of film synopses)\n",
    "* min_df: this could be a proportion (e.g. 0.2) and the term would have to be in at least 20% of the documents to be considered.\n",
    "* ngram_range: this just means I'll look at unigrams, bigrams and trigrams. See [n-grams](http://en.wikipedia.org/wiki/N-gram)\n",
    "\n",
    "Also, use 'english' for the `stop_words` parameter and `tokenize_and_stem`(the function you wrote) for `tokenizer` parameter in the Vectorizer."
   ]
  },
  {
   "cell_type": "code",
   "execution_count": 9,
   "metadata": {},
   "outputs": [
    {
     "name": "stdout",
     "output_type": "stream",
     "text": [
      "CPU times: user 11 s, sys: 109 ms, total: 11.1 s\n",
      "Wall time: 11.6 s\n",
      "(100, 563)\n"
     ]
    }
   ],
   "source": [
    "from sklearn.feature_extraction.text import TfidfVectorizer\n",
    "\n",
    "tfidf_vectorizer = TfidfVectorizer(max_df=0.8, max_features=200000,\n",
    "                                 min_df=0.2, stop_words='english',\n",
    "                                 use_idf=True, tokenizer=tokenize_and_stem, ngram_range=(1,3))\n",
    "\n",
    "%time tfidf_matrix = tfidf_vectorizer.fit_transform(synopses)\n",
    "\n",
    "print(tfidf_matrix.shape)\n",
    "terms = tfidf_vectorizer.get_feature_names()"
   ]
  },
  {
   "cell_type": "code",
   "execution_count": 10,
   "metadata": {},
   "outputs": [
    {
     "data": {
      "text/plain": [
       "<100x563 sparse matrix of type '<class 'numpy.float64'>'\n",
       "\twith 19907 stored elements in Compressed Sparse Row format>"
      ]
     },
     "execution_count": 10,
     "metadata": {},
     "output_type": "execute_result"
    }
   ],
   "source": [
    "tfidf_matrix"
   ]
  },
  {
   "cell_type": "markdown",
   "metadata": {},
   "source": [
    "### Sub Task 3 - Implementing KMeans\n",
    "\n",
    "This is the most important sub-task of this task because in this, you will implement your own K-Means. Fill in the function `KMeans` which will return the labels and cluster centers in the tuple `(labels,centers)` for the given feature matrix `X` and `num_clusters`. We also pass the `max_iter` parameter to run KMeans for that many iterations as it sometimes gets stuck on a local minima. You can learn more about Kmeans clustering [here](https://en.wikipedia.org/wiki/K-means_clustering) and [here](https://www.datascience.com/blog/k-means-clustering)."
   ]
  },
  {
   "cell_type": "code",
   "execution_count": 11,
   "metadata": {
    "collapsed": true
   },
   "outputs": [],
   "source": [
    "def Kmeans(X, num_clusters=8, max_iter=300):\n",
    "    n_data_points=X.shape[0]\n",
    "    n_dimensions=X.shape[1]\n",
    "    np.random.seed(42)\n",
    "    centers=X[np.random.choice(X.shape[0], num_clusters, replace=False), :]\n",
    "    labels=np.zeros(n_data_points)\n",
    "    for z in range(max_iter):\n",
    "        for i,x in enumerate(X):\n",
    "            min_dist=1e12\n",
    "            for j,center in enumerate(centers):\n",
    "                dist=np.linalg.norm(np.subtract(x,center))\n",
    "                if dist<min_dist:\n",
    "                    min_dist=dist\n",
    "                    labels[i]=j\n",
    "        for i,center in enumerate(centers):\n",
    "            centers[i][:]=np.mean(X[np.unique(np.where(labels==i)[0]), :], axis=0)\n",
    "    return (labels, centers)"
   ]
  },
  {
   "cell_type": "markdown",
   "metadata": {},
   "source": [
    "Fit the computed tf-idf matrix using the function written above to obtain the labels and the centers. You can play with different number of centers and maximum iterations to get different results."
   ]
  },
  {
   "cell_type": "code",
   "execution_count": 19,
   "metadata": {},
   "outputs": [
    {
     "name": "stdout",
     "output_type": "stream",
     "text": [
      "CPU times: user 10.4 s, sys: 46.9 ms, total: 10.5 s\n",
      "Wall time: 10.7 s\n"
     ]
    }
   ],
   "source": [
    "%time (labels,centers)=Kmeans(tfidf_matrix.todense(), num_clusters=5, max_iter=1000)"
   ]
  },
  {
   "cell_type": "markdown",
   "metadata": {},
   "source": [
    "Create a dataframe `frame` that stores the the clusters labels, names and genres for all the 100 movies."
   ]
  },
  {
   "cell_type": "code",
   "execution_count": 20,
   "metadata": {
    "scrolled": true
   },
   "outputs": [
    {
     "data": {
      "text/html": [
       "<div>\n",
       "<style>\n",
       "    .dataframe thead tr:only-child th {\n",
       "        text-align: right;\n",
       "    }\n",
       "\n",
       "    .dataframe thead th {\n",
       "        text-align: left;\n",
       "    }\n",
       "\n",
       "    .dataframe tbody tr th {\n",
       "        vertical-align: top;\n",
       "    }\n",
       "</style>\n",
       "<table border=\"1\" class=\"dataframe\">\n",
       "  <thead>\n",
       "    <tr style=\"text-align: right;\">\n",
       "      <th></th>\n",
       "      <th>rank</th>\n",
       "      <th>title</th>\n",
       "      <th>cluster</th>\n",
       "      <th>genre</th>\n",
       "    </tr>\n",
       "  </thead>\n",
       "  <tbody>\n",
       "    <tr>\n",
       "      <th>2.0</th>\n",
       "      <td>0</td>\n",
       "      <td>The Godfather</td>\n",
       "      <td>2.0</td>\n",
       "      <td>[u' Crime', u' Drama']</td>\n",
       "    </tr>\n",
       "    <tr>\n",
       "      <th>2.0</th>\n",
       "      <td>1</td>\n",
       "      <td>The Shawshank Redemption</td>\n",
       "      <td>2.0</td>\n",
       "      <td>[u' Crime', u' Drama']</td>\n",
       "    </tr>\n",
       "    <tr>\n",
       "      <th>4.0</th>\n",
       "      <td>2</td>\n",
       "      <td>Schindler's List</td>\n",
       "      <td>4.0</td>\n",
       "      <td>[u' Biography', u' Drama', u' History']</td>\n",
       "    </tr>\n",
       "    <tr>\n",
       "      <th>2.0</th>\n",
       "      <td>3</td>\n",
       "      <td>Raging Bull</td>\n",
       "      <td>2.0</td>\n",
       "      <td>[u' Biography', u' Drama', u' Sport']</td>\n",
       "    </tr>\n",
       "    <tr>\n",
       "      <th>0.0</th>\n",
       "      <td>4</td>\n",
       "      <td>Casablanca</td>\n",
       "      <td>0.0</td>\n",
       "      <td>[u' Drama', u' Romance', u' War']</td>\n",
       "    </tr>\n",
       "    <tr>\n",
       "      <th>3.0</th>\n",
       "      <td>5</td>\n",
       "      <td>One Flew Over the Cuckoo's Nest</td>\n",
       "      <td>3.0</td>\n",
       "      <td>[u' Drama']</td>\n",
       "    </tr>\n",
       "    <tr>\n",
       "      <th>4.0</th>\n",
       "      <td>6</td>\n",
       "      <td>Gone with the Wind</td>\n",
       "      <td>4.0</td>\n",
       "      <td>[u' Drama', u' Romance', u' War']</td>\n",
       "    </tr>\n",
       "    <tr>\n",
       "      <th>4.0</th>\n",
       "      <td>7</td>\n",
       "      <td>Citizen Kane</td>\n",
       "      <td>4.0</td>\n",
       "      <td>[u' Drama', u' Mystery']</td>\n",
       "    </tr>\n",
       "    <tr>\n",
       "      <th>1.0</th>\n",
       "      <td>8</td>\n",
       "      <td>The Wizard of Oz</td>\n",
       "      <td>1.0</td>\n",
       "      <td>[u' Adventure', u' Family', u' Fantasy', u' Mu...</td>\n",
       "    </tr>\n",
       "    <tr>\n",
       "      <th>4.0</th>\n",
       "      <td>9</td>\n",
       "      <td>Titanic</td>\n",
       "      <td>4.0</td>\n",
       "      <td>[u' Drama', u' Romance']</td>\n",
       "    </tr>\n",
       "    <tr>\n",
       "      <th>1.0</th>\n",
       "      <td>10</td>\n",
       "      <td>Lawrence of Arabia</td>\n",
       "      <td>1.0</td>\n",
       "      <td>[u' Adventure', u' Biography', u' Drama', u' H...</td>\n",
       "    </tr>\n",
       "    <tr>\n",
       "      <th>2.0</th>\n",
       "      <td>11</td>\n",
       "      <td>The Godfather: Part II</td>\n",
       "      <td>2.0</td>\n",
       "      <td>[u' Crime', u' Drama']</td>\n",
       "    </tr>\n",
       "    <tr>\n",
       "      <th>3.0</th>\n",
       "      <td>12</td>\n",
       "      <td>Psycho</td>\n",
       "      <td>3.0</td>\n",
       "      <td>[u' Horror', u' Mystery', u' Thriller']</td>\n",
       "    </tr>\n",
       "    <tr>\n",
       "      <th>2.0</th>\n",
       "      <td>13</td>\n",
       "      <td>Sunset Blvd.</td>\n",
       "      <td>2.0</td>\n",
       "      <td>[u' Drama', u' Film-Noir']</td>\n",
       "    </tr>\n",
       "    <tr>\n",
       "      <th>0.0</th>\n",
       "      <td>14</td>\n",
       "      <td>Vertigo</td>\n",
       "      <td>0.0</td>\n",
       "      <td>[u' Mystery', u' Romance', u' Thriller']</td>\n",
       "    </tr>\n",
       "    <tr>\n",
       "      <th>2.0</th>\n",
       "      <td>15</td>\n",
       "      <td>On the Waterfront</td>\n",
       "      <td>2.0</td>\n",
       "      <td>[u' Crime', u' Drama']</td>\n",
       "    </tr>\n",
       "    <tr>\n",
       "      <th>4.0</th>\n",
       "      <td>16</td>\n",
       "      <td>Forrest Gump</td>\n",
       "      <td>4.0</td>\n",
       "      <td>[u' Drama', u' Romance']</td>\n",
       "    </tr>\n",
       "    <tr>\n",
       "      <th>4.0</th>\n",
       "      <td>17</td>\n",
       "      <td>The Sound of Music</td>\n",
       "      <td>4.0</td>\n",
       "      <td>[u' Biography', u' Drama', u' Family', u' Musi...</td>\n",
       "    </tr>\n",
       "    <tr>\n",
       "      <th>3.0</th>\n",
       "      <td>18</td>\n",
       "      <td>West Side Story</td>\n",
       "      <td>3.0</td>\n",
       "      <td>[u' Crime', u' Drama', u' Musical', u' Romance...</td>\n",
       "    </tr>\n",
       "    <tr>\n",
       "      <th>4.0</th>\n",
       "      <td>19</td>\n",
       "      <td>Star Wars</td>\n",
       "      <td>4.0</td>\n",
       "      <td>[u' Action', u' Adventure', u' Fantasy', u' Sc...</td>\n",
       "    </tr>\n",
       "    <tr>\n",
       "      <th>3.0</th>\n",
       "      <td>20</td>\n",
       "      <td>E.T. the Extra-Terrestrial</td>\n",
       "      <td>3.0</td>\n",
       "      <td>[u' Adventure', u' Family', u' Sci-Fi']</td>\n",
       "    </tr>\n",
       "    <tr>\n",
       "      <th>0.0</th>\n",
       "      <td>21</td>\n",
       "      <td>2001: A Space Odyssey</td>\n",
       "      <td>0.0</td>\n",
       "      <td>[u' Mystery', u' Sci-Fi']</td>\n",
       "    </tr>\n",
       "    <tr>\n",
       "      <th>1.0</th>\n",
       "      <td>22</td>\n",
       "      <td>The Silence of the Lambs</td>\n",
       "      <td>1.0</td>\n",
       "      <td>[u' Crime', u' Drama', u' Thriller']</td>\n",
       "    </tr>\n",
       "    <tr>\n",
       "      <th>2.0</th>\n",
       "      <td>23</td>\n",
       "      <td>Chinatown</td>\n",
       "      <td>2.0</td>\n",
       "      <td>[u' Drama', u' Mystery', u' Thriller']</td>\n",
       "    </tr>\n",
       "    <tr>\n",
       "      <th>1.0</th>\n",
       "      <td>24</td>\n",
       "      <td>The Bridge on the River Kwai</td>\n",
       "      <td>1.0</td>\n",
       "      <td>[u' Adventure', u' Drama', u' War']</td>\n",
       "    </tr>\n",
       "    <tr>\n",
       "      <th>0.0</th>\n",
       "      <td>25</td>\n",
       "      <td>Singin' in the Rain</td>\n",
       "      <td>0.0</td>\n",
       "      <td>[u' Comedy', u' Musical', u' Romance']</td>\n",
       "    </tr>\n",
       "    <tr>\n",
       "      <th>2.0</th>\n",
       "      <td>26</td>\n",
       "      <td>It's a Wonderful Life</td>\n",
       "      <td>2.0</td>\n",
       "      <td>[u' Drama', u' Family', u' Fantasy']</td>\n",
       "    </tr>\n",
       "    <tr>\n",
       "      <th>4.0</th>\n",
       "      <td>27</td>\n",
       "      <td>Some Like It Hot</td>\n",
       "      <td>4.0</td>\n",
       "      <td>[u' Comedy']</td>\n",
       "    </tr>\n",
       "    <tr>\n",
       "      <th>3.0</th>\n",
       "      <td>28</td>\n",
       "      <td>12 Angry Men</td>\n",
       "      <td>3.0</td>\n",
       "      <td>[u' Drama']</td>\n",
       "    </tr>\n",
       "    <tr>\n",
       "      <th>4.0</th>\n",
       "      <td>29</td>\n",
       "      <td>Dr. Strangelove or: How I Learned to Stop Worr...</td>\n",
       "      <td>4.0</td>\n",
       "      <td>[u' Comedy', u' War']</td>\n",
       "    </tr>\n",
       "    <tr>\n",
       "      <th>...</th>\n",
       "      <td>...</td>\n",
       "      <td>...</td>\n",
       "      <td>...</td>\n",
       "      <td>...</td>\n",
       "    </tr>\n",
       "    <tr>\n",
       "      <th>2.0</th>\n",
       "      <td>70</td>\n",
       "      <td>Rain Man</td>\n",
       "      <td>2.0</td>\n",
       "      <td>[u' Drama']</td>\n",
       "    </tr>\n",
       "    <tr>\n",
       "      <th>3.0</th>\n",
       "      <td>71</td>\n",
       "      <td>Annie Hall</td>\n",
       "      <td>3.0</td>\n",
       "      <td>[u' Comedy', u' Drama', u' Romance']</td>\n",
       "    </tr>\n",
       "    <tr>\n",
       "      <th>4.0</th>\n",
       "      <td>72</td>\n",
       "      <td>Out of Africa</td>\n",
       "      <td>4.0</td>\n",
       "      <td>[u' Biography', u' Drama', u' Romance']</td>\n",
       "    </tr>\n",
       "    <tr>\n",
       "      <th>4.0</th>\n",
       "      <td>73</td>\n",
       "      <td>Good Will Hunting</td>\n",
       "      <td>4.0</td>\n",
       "      <td>[u' Drama']</td>\n",
       "    </tr>\n",
       "    <tr>\n",
       "      <th>4.0</th>\n",
       "      <td>74</td>\n",
       "      <td>Terms of Endearment</td>\n",
       "      <td>4.0</td>\n",
       "      <td>[u' Comedy', u' Drama']</td>\n",
       "    </tr>\n",
       "    <tr>\n",
       "      <th>3.0</th>\n",
       "      <td>75</td>\n",
       "      <td>Tootsie</td>\n",
       "      <td>3.0</td>\n",
       "      <td>[u' Comedy', u' Drama', u' Romance']</td>\n",
       "    </tr>\n",
       "    <tr>\n",
       "      <th>2.0</th>\n",
       "      <td>76</td>\n",
       "      <td>Fargo</td>\n",
       "      <td>2.0</td>\n",
       "      <td>[u' Crime', u' Drama', u' Thriller']</td>\n",
       "    </tr>\n",
       "    <tr>\n",
       "      <th>4.0</th>\n",
       "      <td>77</td>\n",
       "      <td>Giant</td>\n",
       "      <td>4.0</td>\n",
       "      <td>[u' Drama', u' Romance']</td>\n",
       "    </tr>\n",
       "    <tr>\n",
       "      <th>1.0</th>\n",
       "      <td>78</td>\n",
       "      <td>The Grapes of Wrath</td>\n",
       "      <td>1.0</td>\n",
       "      <td>[u' Drama']</td>\n",
       "    </tr>\n",
       "    <tr>\n",
       "      <th>1.0</th>\n",
       "      <td>79</td>\n",
       "      <td>Shane</td>\n",
       "      <td>1.0</td>\n",
       "      <td>[u' Drama', u' Romance', u' Western']</td>\n",
       "    </tr>\n",
       "    <tr>\n",
       "      <th>0.0</th>\n",
       "      <td>80</td>\n",
       "      <td>The Green Mile</td>\n",
       "      <td>0.0</td>\n",
       "      <td>[u' Crime', u' Drama', u' Fantasy', u' Mystery']</td>\n",
       "    </tr>\n",
       "    <tr>\n",
       "      <th>1.0</th>\n",
       "      <td>81</td>\n",
       "      <td>Close Encounters of the Third Kind</td>\n",
       "      <td>1.0</td>\n",
       "      <td>[u' Drama', u' Sci-Fi']</td>\n",
       "    </tr>\n",
       "    <tr>\n",
       "      <th>4.0</th>\n",
       "      <td>82</td>\n",
       "      <td>Network</td>\n",
       "      <td>4.0</td>\n",
       "      <td>[u' Drama']</td>\n",
       "    </tr>\n",
       "    <tr>\n",
       "      <th>0.0</th>\n",
       "      <td>83</td>\n",
       "      <td>Nashville</td>\n",
       "      <td>0.0</td>\n",
       "      <td>[u' Drama', u' Music']</td>\n",
       "    </tr>\n",
       "    <tr>\n",
       "      <th>4.0</th>\n",
       "      <td>84</td>\n",
       "      <td>The Graduate</td>\n",
       "      <td>4.0</td>\n",
       "      <td>[u' Comedy', u' Drama', u' Romance']</td>\n",
       "    </tr>\n",
       "    <tr>\n",
       "      <th>2.0</th>\n",
       "      <td>85</td>\n",
       "      <td>American Graffiti</td>\n",
       "      <td>2.0</td>\n",
       "      <td>[u' Comedy', u' Drama']</td>\n",
       "    </tr>\n",
       "    <tr>\n",
       "      <th>2.0</th>\n",
       "      <td>86</td>\n",
       "      <td>Pulp Fiction</td>\n",
       "      <td>2.0</td>\n",
       "      <td>[u' Crime', u' Drama', u' Thriller']</td>\n",
       "    </tr>\n",
       "    <tr>\n",
       "      <th>0.0</th>\n",
       "      <td>87</td>\n",
       "      <td>The African Queen</td>\n",
       "      <td>0.0</td>\n",
       "      <td>[u' Adventure', u' Romance', u' War']</td>\n",
       "    </tr>\n",
       "    <tr>\n",
       "      <th>2.0</th>\n",
       "      <td>88</td>\n",
       "      <td>Stagecoach</td>\n",
       "      <td>2.0</td>\n",
       "      <td>[u' Adventure', u' Western']</td>\n",
       "    </tr>\n",
       "    <tr>\n",
       "      <th>4.0</th>\n",
       "      <td>89</td>\n",
       "      <td>Mutiny on the Bounty</td>\n",
       "      <td>4.0</td>\n",
       "      <td>[u' Adventure', u' Drama', u' History']</td>\n",
       "    </tr>\n",
       "    <tr>\n",
       "      <th>1.0</th>\n",
       "      <td>90</td>\n",
       "      <td>The Maltese Falcon</td>\n",
       "      <td>1.0</td>\n",
       "      <td>[u' Drama', u' Film-Noir', u' Mystery']</td>\n",
       "    </tr>\n",
       "    <tr>\n",
       "      <th>0.0</th>\n",
       "      <td>91</td>\n",
       "      <td>A Clockwork Orange</td>\n",
       "      <td>0.0</td>\n",
       "      <td>[u' Crime', u' Drama', u' Sci-Fi']</td>\n",
       "    </tr>\n",
       "    <tr>\n",
       "      <th>1.0</th>\n",
       "      <td>92</td>\n",
       "      <td>Taxi Driver</td>\n",
       "      <td>1.0</td>\n",
       "      <td>[u' Crime', u' Drama']</td>\n",
       "    </tr>\n",
       "    <tr>\n",
       "      <th>0.0</th>\n",
       "      <td>93</td>\n",
       "      <td>Wuthering Heights</td>\n",
       "      <td>0.0</td>\n",
       "      <td>[u' Drama', u' Romance']</td>\n",
       "    </tr>\n",
       "    <tr>\n",
       "      <th>3.0</th>\n",
       "      <td>94</td>\n",
       "      <td>Double Indemnity</td>\n",
       "      <td>3.0</td>\n",
       "      <td>[u' Crime', u' Drama', u' Film-Noir', u' Thril...</td>\n",
       "    </tr>\n",
       "    <tr>\n",
       "      <th>2.0</th>\n",
       "      <td>95</td>\n",
       "      <td>Rebel Without a Cause</td>\n",
       "      <td>2.0</td>\n",
       "      <td>[u' Drama']</td>\n",
       "    </tr>\n",
       "    <tr>\n",
       "      <th>3.0</th>\n",
       "      <td>96</td>\n",
       "      <td>Rear Window</td>\n",
       "      <td>3.0</td>\n",
       "      <td>[u' Mystery', u' Thriller']</td>\n",
       "    </tr>\n",
       "    <tr>\n",
       "      <th>3.0</th>\n",
       "      <td>97</td>\n",
       "      <td>The Third Man</td>\n",
       "      <td>3.0</td>\n",
       "      <td>[u' Film-Noir', u' Mystery', u' Thriller']</td>\n",
       "    </tr>\n",
       "    <tr>\n",
       "      <th>3.0</th>\n",
       "      <td>98</td>\n",
       "      <td>North by Northwest</td>\n",
       "      <td>3.0</td>\n",
       "      <td>[u' Mystery', u' Thriller']</td>\n",
       "    </tr>\n",
       "    <tr>\n",
       "      <th>0.0</th>\n",
       "      <td>99</td>\n",
       "      <td>Yankee Doodle Dandy</td>\n",
       "      <td>0.0</td>\n",
       "      <td>[u' Biography', u' Drama', u' Musical']</td>\n",
       "    </tr>\n",
       "  </tbody>\n",
       "</table>\n",
       "<p>100 rows × 4 columns</p>\n",
       "</div>"
      ],
      "text/plain": [
       "     rank                                              title  cluster  \\\n",
       "2.0     0                                      The Godfather      2.0   \n",
       "2.0     1                           The Shawshank Redemption      2.0   \n",
       "4.0     2                                   Schindler's List      4.0   \n",
       "2.0     3                                        Raging Bull      2.0   \n",
       "0.0     4                                         Casablanca      0.0   \n",
       "3.0     5                    One Flew Over the Cuckoo's Nest      3.0   \n",
       "4.0     6                                 Gone with the Wind      4.0   \n",
       "4.0     7                                       Citizen Kane      4.0   \n",
       "1.0     8                                   The Wizard of Oz      1.0   \n",
       "4.0     9                                            Titanic      4.0   \n",
       "1.0    10                                 Lawrence of Arabia      1.0   \n",
       "2.0    11                             The Godfather: Part II      2.0   \n",
       "3.0    12                                             Psycho      3.0   \n",
       "2.0    13                                       Sunset Blvd.      2.0   \n",
       "0.0    14                                            Vertigo      0.0   \n",
       "2.0    15                                  On the Waterfront      2.0   \n",
       "4.0    16                                       Forrest Gump      4.0   \n",
       "4.0    17                                 The Sound of Music      4.0   \n",
       "3.0    18                                    West Side Story      3.0   \n",
       "4.0    19                                          Star Wars      4.0   \n",
       "3.0    20                         E.T. the Extra-Terrestrial      3.0   \n",
       "0.0    21                              2001: A Space Odyssey      0.0   \n",
       "1.0    22                           The Silence of the Lambs      1.0   \n",
       "2.0    23                                          Chinatown      2.0   \n",
       "1.0    24                       The Bridge on the River Kwai      1.0   \n",
       "0.0    25                                Singin' in the Rain      0.0   \n",
       "2.0    26                              It's a Wonderful Life      2.0   \n",
       "4.0    27                                   Some Like It Hot      4.0   \n",
       "3.0    28                                       12 Angry Men      3.0   \n",
       "4.0    29  Dr. Strangelove or: How I Learned to Stop Worr...      4.0   \n",
       "..    ...                                                ...      ...   \n",
       "2.0    70                                           Rain Man      2.0   \n",
       "3.0    71                                         Annie Hall      3.0   \n",
       "4.0    72                                      Out of Africa      4.0   \n",
       "4.0    73                                  Good Will Hunting      4.0   \n",
       "4.0    74                                Terms of Endearment      4.0   \n",
       "3.0    75                                            Tootsie      3.0   \n",
       "2.0    76                                              Fargo      2.0   \n",
       "4.0    77                                              Giant      4.0   \n",
       "1.0    78                                The Grapes of Wrath      1.0   \n",
       "1.0    79                                              Shane      1.0   \n",
       "0.0    80                                     The Green Mile      0.0   \n",
       "1.0    81                 Close Encounters of the Third Kind      1.0   \n",
       "4.0    82                                            Network      4.0   \n",
       "0.0    83                                          Nashville      0.0   \n",
       "4.0    84                                       The Graduate      4.0   \n",
       "2.0    85                                  American Graffiti      2.0   \n",
       "2.0    86                                       Pulp Fiction      2.0   \n",
       "0.0    87                                  The African Queen      0.0   \n",
       "2.0    88                                         Stagecoach      2.0   \n",
       "4.0    89                               Mutiny on the Bounty      4.0   \n",
       "1.0    90                                 The Maltese Falcon      1.0   \n",
       "0.0    91                                 A Clockwork Orange      0.0   \n",
       "1.0    92                                        Taxi Driver      1.0   \n",
       "0.0    93                                  Wuthering Heights      0.0   \n",
       "3.0    94                                   Double Indemnity      3.0   \n",
       "2.0    95                              Rebel Without a Cause      2.0   \n",
       "3.0    96                                        Rear Window      3.0   \n",
       "3.0    97                                      The Third Man      3.0   \n",
       "3.0    98                                 North by Northwest      3.0   \n",
       "0.0    99                                Yankee Doodle Dandy      0.0   \n",
       "\n",
       "                                                 genre  \n",
       "2.0                             [u' Crime', u' Drama']  \n",
       "2.0                             [u' Crime', u' Drama']  \n",
       "4.0            [u' Biography', u' Drama', u' History']  \n",
       "2.0              [u' Biography', u' Drama', u' Sport']  \n",
       "0.0                  [u' Drama', u' Romance', u' War']  \n",
       "3.0                                        [u' Drama']  \n",
       "4.0                  [u' Drama', u' Romance', u' War']  \n",
       "4.0                           [u' Drama', u' Mystery']  \n",
       "1.0  [u' Adventure', u' Family', u' Fantasy', u' Mu...  \n",
       "4.0                           [u' Drama', u' Romance']  \n",
       "1.0  [u' Adventure', u' Biography', u' Drama', u' H...  \n",
       "2.0                             [u' Crime', u' Drama']  \n",
       "3.0            [u' Horror', u' Mystery', u' Thriller']  \n",
       "2.0                         [u' Drama', u' Film-Noir']  \n",
       "0.0           [u' Mystery', u' Romance', u' Thriller']  \n",
       "2.0                             [u' Crime', u' Drama']  \n",
       "4.0                           [u' Drama', u' Romance']  \n",
       "4.0  [u' Biography', u' Drama', u' Family', u' Musi...  \n",
       "3.0  [u' Crime', u' Drama', u' Musical', u' Romance...  \n",
       "4.0  [u' Action', u' Adventure', u' Fantasy', u' Sc...  \n",
       "3.0            [u' Adventure', u' Family', u' Sci-Fi']  \n",
       "0.0                          [u' Mystery', u' Sci-Fi']  \n",
       "1.0               [u' Crime', u' Drama', u' Thriller']  \n",
       "2.0             [u' Drama', u' Mystery', u' Thriller']  \n",
       "1.0                [u' Adventure', u' Drama', u' War']  \n",
       "0.0             [u' Comedy', u' Musical', u' Romance']  \n",
       "2.0               [u' Drama', u' Family', u' Fantasy']  \n",
       "4.0                                       [u' Comedy']  \n",
       "3.0                                        [u' Drama']  \n",
       "4.0                              [u' Comedy', u' War']  \n",
       "..                                                 ...  \n",
       "2.0                                        [u' Drama']  \n",
       "3.0               [u' Comedy', u' Drama', u' Romance']  \n",
       "4.0            [u' Biography', u' Drama', u' Romance']  \n",
       "4.0                                        [u' Drama']  \n",
       "4.0                            [u' Comedy', u' Drama']  \n",
       "3.0               [u' Comedy', u' Drama', u' Romance']  \n",
       "2.0               [u' Crime', u' Drama', u' Thriller']  \n",
       "4.0                           [u' Drama', u' Romance']  \n",
       "1.0                                        [u' Drama']  \n",
       "1.0              [u' Drama', u' Romance', u' Western']  \n",
       "0.0   [u' Crime', u' Drama', u' Fantasy', u' Mystery']  \n",
       "1.0                            [u' Drama', u' Sci-Fi']  \n",
       "4.0                                        [u' Drama']  \n",
       "0.0                             [u' Drama', u' Music']  \n",
       "4.0               [u' Comedy', u' Drama', u' Romance']  \n",
       "2.0                            [u' Comedy', u' Drama']  \n",
       "2.0               [u' Crime', u' Drama', u' Thriller']  \n",
       "0.0              [u' Adventure', u' Romance', u' War']  \n",
       "2.0                       [u' Adventure', u' Western']  \n",
       "4.0            [u' Adventure', u' Drama', u' History']  \n",
       "1.0            [u' Drama', u' Film-Noir', u' Mystery']  \n",
       "0.0                 [u' Crime', u' Drama', u' Sci-Fi']  \n",
       "1.0                             [u' Crime', u' Drama']  \n",
       "0.0                           [u' Drama', u' Romance']  \n",
       "3.0  [u' Crime', u' Drama', u' Film-Noir', u' Thril...  \n",
       "2.0                                        [u' Drama']  \n",
       "3.0                        [u' Mystery', u' Thriller']  \n",
       "3.0         [u' Film-Noir', u' Mystery', u' Thriller']  \n",
       "3.0                        [u' Mystery', u' Thriller']  \n",
       "0.0            [u' Biography', u' Drama', u' Musical']  \n",
       "\n",
       "[100 rows x 4 columns]"
      ]
     },
     "execution_count": 20,
     "metadata": {},
     "output_type": "execute_result"
    }
   ],
   "source": [
    "import pandas as pd\n",
    "films = { 'title': titles, 'rank': ranks, 'synopsis': synopses, 'cluster': labels, 'genre': genres }\n",
    "frame = pd.DataFrame(films, index = [labels] , columns = ['rank', 'title', 'cluster', 'genre'])\n",
    "frame"
   ]
  },
  {
   "cell_type": "markdown",
   "metadata": {},
   "source": [
    "Movie counts for a particular cluster."
   ]
  },
  {
   "cell_type": "code",
   "execution_count": 21,
   "metadata": {
    "scrolled": true
   },
   "outputs": [
    {
     "data": {
      "text/plain": [
       "4.0    27\n",
       "1.0    22\n",
       "3.0    19\n",
       "2.0    19\n",
       "0.0    13\n",
       "Name: cluster, dtype: int64"
      ]
     },
     "execution_count": 21,
     "metadata": {},
     "output_type": "execute_result"
    }
   ],
   "source": [
    "frame['cluster'].value_counts()"
   ]
  },
  {
   "cell_type": "markdown",
   "metadata": {},
   "source": [
    "### Visualizing Results\n",
    "Sort the cluster centers to get the most important terms per cluster and store it in `cluster_names`. Also print them along with the movies in that cluster to get a feel of the clusters you have made with your KMeans."
   ]
  },
  {
   "cell_type": "code",
   "execution_count": 22,
   "metadata": {
    "scrolled": true
   },
   "outputs": [
    {
     "name": "stdout",
     "output_type": "stream",
     "text": [
      "Top terms per cluster:\n",
      "Cluster 0 words: b'mr.', b'singing', b'music', b'john', b'perform', b'love',\n",
      "Cluster 0 titles: Casablanca, Vertigo, 2001: A Space Odyssey, Singin' in the Rain, Amadeus, The Good, the Bad and the Ugly, The Deer Hunter, The Green Mile, Nashville, The African Queen, A Clockwork Orange, Wuthering Heights, Yankee Doodle Dandy,\n",
      "\n",
      "Cluster 1 words: b'killed', b'soldiers', b'men', b'town', b'shoot', b'arrives',\n",
      "Cluster 1 titles: The Wizard of Oz, Lawrence of Arabia, The Silence of the Lambs, The Bridge on the River Kwai, Apocalypse Now, Gladiator, Saving Private Ryan, Unforgiven, Raiders of the Lost Ark, Ben-Hur, Jaws, Butch Cassidy and the Sundance Kid, The Treasure of the Sierra Madre, Platoon, High Noon, Dances with Wolves, All Quiet on the Western Front, The Grapes of Wrath, Shane, Close Encounters of the Third Kind, The Maltese Falcon, Taxi Driver,\n",
      "\n",
      "Cluster 2 words: b'car', b'george', b'father', b'brothers', b'police', b'family',\n",
      "Cluster 2 titles: The Godfather, The Shawshank Redemption, Raging Bull, The Godfather: Part II, Sunset Blvd., On the Waterfront, Chinatown, It's a Wonderful Life, Braveheart, The French Connection, The King's Speech, It Happened One Night, A Place in the Sun, Rain Man, Fargo, American Graffiti, Pulp Fiction, Stagecoach, Rebel Without a Cause,\n",
      "\n",
      "Cluster 3 words: b'mother', b'says', b'comes', b'police', b'home', b'father',\n",
      "Cluster 3 titles: One Flew Over the Cuckoo's Nest, Psycho, West Side Story, E.T. the Extra-Terrestrial, 12 Angry Men, Gandhi, Rocky, The Philadelphia Story, To Kill a Mockingbird, My Fair Lady, The Exorcist, Midnight Cowboy, Mr. Smith Goes to Washington, Annie Hall, Tootsie, Double Indemnity, Rear Window, The Third Man, North by Northwest,\n",
      "\n",
      "Cluster 4 words: b'war', b'family', b'army', b'love', b'captain', b'marries',\n",
      "Cluster 4 titles: Schindler's List, Gone with the Wind, Citizen Kane, Titanic, Forrest Gump, The Sound of Music, Star Wars, Some Like It Hot, Dr. Strangelove or: How I Learned to Stop Worrying and Love the Bomb, The Lord of the Rings: The Return of the King, From Here to Eternity, A Streetcar Named Desire, An American in Paris, The Best Years of Our Lives, Doctor Zhivago, Patton, The Apartment, The Pianist, Goodfellas, City Lights, Out of Africa, Good Will Hunting, Terms of Endearment, Giant, Network, The Graduate, Mutiny on the Bounty,\n",
      "\n"
     ]
    }
   ],
   "source": [
    "print(\"Top terms per cluster:\")\n",
    "order_centroids = np.asarray(centers).argsort()[:, ::-1]\n",
    "cluster_names=[]\n",
    "for i in range(0,order_centroids.shape[0]):\n",
    "    print(\"Cluster %d words:\" % i, end='')\n",
    "    q=\"\"\n",
    "    for ind in order_centroids[i, :6]:\n",
    "        print(' %s' % vocab_frame.loc[terms[ind].split(' ')].values.tolist()[0][0].encode('utf-8', 'ignore'), end=',')\n",
    "        q+=str(vocab_frame.loc[terms[ind].split(' ')].values.tolist()[0][0].encode('utf-8', 'ignore'))\n",
    "        q+=\" \"\n",
    "    cluster_names.append(q)\n",
    "    print()\n",
    "    print(\"Cluster %d titles:\" % i, end='')\n",
    "    for title in frame.loc[i]['title'].values.tolist():\n",
    "        print(' %s,' % title, end='')\n",
    "    print()\n",
    "    print()"
   ]
  },
  {
   "cell_type": "markdown",
   "metadata": {},
   "source": [
    "### Plotting the Data\n",
    "Now we plot the various movie clusters.\n",
    "Basically we scale the multi-dimentional feature vector by applying 2 dimensional PCA. It is a technique used to visualize multi-dimensional plots in 2 dimensions. More about it [here](http://www.apnorton.com/blog/2016/12/19/Visualizing-Multidimensional-Data-in-Python/)."
   ]
  },
  {
   "cell_type": "code",
   "execution_count": 23,
   "metadata": {
    "collapsed": true
   },
   "outputs": [],
   "source": [
    "import matplotlib.pyplot as plt\n",
    "from sklearn.decomposition import PCA as sklearnPCA"
   ]
  },
  {
   "cell_type": "code",
   "execution_count": 24,
   "metadata": {
    "collapsed": true
   },
   "outputs": [],
   "source": [
    "pca = sklearnPCA(n_components=2) #2-dimensional PCA\n",
    "transformed = pd.DataFrame(pca.fit_transform(tfidf_matrix.todense()))"
   ]
  },
  {
   "cell_type": "code",
   "execution_count": 25,
   "metadata": {},
   "outputs": [
    {
     "data": {
      "image/png": "[encoded data removed]",
      "text/plain": [
       "<matplotlib.figure.Figure at 0x7f569fe72668>"
      ]
     },
     "metadata": {},
     "output_type": "display_data"
    }
   ],
   "source": [
    "colors=['red','blue','green','gray','black','yellow','orange','brown']\n",
    "for i in range(len(cluster_names)):\n",
    "    plt.scatter(transformed[labels==i][0], transformed[labels==i][1], label=cluster_names[i], c=colors[i])\n",
    "plt.legend()\n",
    "plt.show()"
   ]
  }
 ],
 "metadata": {
  "kernelspec": {
   "display_name": "Python 3",
   "language": "python",
   "name": "python3"
  },
  "language_info": {
   "codemirror_mode": {
    "name": "ipython",
    "version": 3
   },
   "file_extension": ".py",
   "mimetype": "text/x-python",
   "name": "python",
   "nbconvert_exporter": "python",
   "pygments_lexer": "ipython3",
   "version": "3.6.3"
  }
 },
 "nbformat": 4,
 "nbformat_minor": 2
}
